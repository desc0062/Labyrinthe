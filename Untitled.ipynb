{
 "cells": [
  {
   "cell_type": "code",
   "execution_count": 309,
   "id": "5ce5137a",
   "metadata": {},
   "outputs": [],
   "source": [
    "from random import choice\n",
    "from random import *\n",
    "import random\n",
    "class Maze:\n",
    "    \"\"\"\n",
    "    Classe Labyrinthe\n",
    "    Représentation sous forme de graphe non-orienté\n",
    "    dont chaque sommet est une cellule (un tuple (l,c))\n",
    "    et dont la structure est représentée par un dictionnaire\n",
    "      - clés : sommets\n",
    "      - valeurs : ensemble des sommets voisins accessibles\n",
    "    \"\"\"\n",
    "\n",
    "    def __init__(self, height, width, empty = False):\n",
    "        \"\"\"\n",
    "        Constructeur d'un labyrinthe de height cellules de haut\n",
    "        et de width cellules de large et de empty correspondant si le labyrinthe doit contenir des murs ou non \n",
    "        Les voisinages sont initialisés à des ensembles vides\n",
    "        Remarque : dans le labyrinthe créé, chaque cellule est complètement emmurée\n",
    "        \"\"\"\n",
    "        assert isinstance(height, object)\n",
    "        self.height = height\n",
    "        self.width = width\n",
    "        self.neighbors = {(i, j): set() for i in range(height) for j in range(width)}\n",
    "        \n",
    "        '''\n",
    "        Cette condition permet lorsque empty vaut True, \n",
    "        chaque cellule a pour voisines celles qui lui sont contigües dans la grille. \n",
    "        Si empty vaut False, \n",
    "        aucune cellule n’a de voisines.\n",
    "        '''\n",
    "        if empty:\n",
    "            '''\n",
    "            un booléen qui indique si le graphe doit être créé avec aucun mur, ou avec tous les murs.\n",
    "            Modifier le corps de la méthode de telle manière que :\n",
    "                si empty vaut True, chaque cellule a pour voisines celles qui lui sont contigües dans la grille ;\n",
    "                si empty vaut False, aucune cellule n’a de voisines.\n",
    "            '''\n",
    "            for i in range (height):\n",
    "                for j in range(width):\n",
    "                    if i > 0:\n",
    "                        self.neighbors[(i,j)].add((i-1,j))\n",
    "                    if i < height-1:\n",
    "                        self.neighbors[(i,j)].add((i+1,j))\n",
    "                    if j > 0:\n",
    "                        self.neighbors[(i,j)].add((i,j-1))\n",
    "                    if j < width-1:\n",
    "                        self.neighbors[(i,j)].add((i,j+1))\n",
    "\n",
    "\n",
    "    def info(self):\n",
    "        \"\"\"\n",
    "        Affichage des attributs d'un objet 'Maze' (fonction utile pour deboguer)\n",
    "        Retour:\n",
    "            chaîne (string): description textuelle des attributs de l'objet\n",
    "        \"\"\"\n",
    "        txt = f\"{self.height} x {self.width}\\n\"\n",
    "        txt += str(self.neighbors)\n",
    "        return txt\n",
    "\n",
    "    def __str__(self):\n",
    "        \"\"\"\n",
    "        Représentation textuelle d'un objet Maze (en utilisant des caractères ascii)\n",
    "        Retour:\n",
    "             chaîne (str) : chaîne de caractères représentant le labyrinthe\n",
    "        \"\"\"\n",
    "        txt = \"\"\n",
    "        # Première ligne\n",
    "        txt += \"┏\"\n",
    "        for j in range(self.width - 1):\n",
    "            txt += \"━━━┳\"\n",
    "        txt += \"━━━┓\\n\"\n",
    "        txt += \"┃\"\n",
    "        for j in range(self.width - 1):\n",
    "            txt += \"   ┃\" if (0, j + 1) not in self.neighbors[(0, j)] else \"    \"\n",
    "        txt += \"   ┃\\n\"\n",
    "        # Lignes normales\n",
    "        for i in range(self.height - 1):\n",
    "            txt += \"┣\"\n",
    "            for j in range(self.width - 1):\n",
    "                txt += \"━━━╋\" if (i + 1, j) not in self.neighbors[(i, j)] else \"   ╋\"\n",
    "            txt += \"━━━┫\\n\" if (i + 1, self.width - 1) not in self.neighbors[(i, self.width - 1)] else \"   ┫\\n\"\n",
    "            txt += \"┃\"\n",
    "            for j in range(self.width):\n",
    "                txt += \"   ┃\" if (i + 1, j + 1) not in self.neighbors[(i + 1, j)] else \"    \"\n",
    "            txt += \"\\n\"\n",
    "        # Bas du tableau\n",
    "        txt += \"┗\"\n",
    "        for i in range(self.width - 1):\n",
    "            txt += \"━━━┻\"\n",
    "        txt += \"━━━┛\\n\"\n",
    "\n",
    "        return txt\n",
    "    \n",
    "    def add_wall(self, c1, c2):\n",
    "        '''\n",
    "        ajoute un mur entre entre la cellule c1 et la cellule c2.\n",
    "        '''\n",
    "        assert 0 <= c1[0] < self.height and \\\n",
    "            0 <= c1[1] < self.width and \\\n",
    "            0 <= c2[0] < self.height and \\\n",
    "            0 <= c2[1] < self.width, \\\n",
    "                f\"Erreur lors de l'ajout d'un mur entre {c1} et {c2} :les coordonnées de sont\" \n",
    "        \"pas compatibles avec les dimensions du labyrinthe\"\n",
    "        if c2 in self.neighbors[c1]:\n",
    "            self.neighbors[c1].remove(c2)\n",
    "        if c1 in self.neighbors[c2]:\n",
    "            self.neighbors[c2].remove(c1)\n",
    "            \n",
    "            \n",
    "    def remove_wall(self, c1, c2):\n",
    "        '''\n",
    "        supprime un mur entre deux cellules\n",
    "        '''\n",
    "        assert 0 <= c1[0] < self.height and \\\n",
    "            0 <= c1[1] < self.width and \\\n",
    "            0 <= c2[0] < self.height and \\\n",
    "            0 <= c2[1] < self.width, \\\n",
    "                f\"Erreur lors de l'ajout d'un mur entre {c1} et {c2} :les coordonnées de sont\"\n",
    "        \"pas compatibles avec les dimensions du labyrinthe\"\n",
    "        \n",
    "        if c2 not in self.neighbors[c1]:\n",
    "            self.neighbors[c1].add(c2)\n",
    "        if c1 not in self.neighbors[c2]:\n",
    "            self.neighbors[c2].add(c1)\n",
    "            \n",
    "    def get_walls(self)->list:\n",
    "        '''\n",
    "        retourne la liste de tous les murs sous la forme d’une liste de tuple de cellules\n",
    "        '''\n",
    "        get = []\n",
    "        for i in range (self.height):\n",
    "            for j in range (self.width):\n",
    "                v = []\n",
    "                if j != self.width-1:\n",
    "                    v.append((i,j+1))\n",
    "                if i != self.height-1:\n",
    "                    v.append((i+1,j))\n",
    "                for k in v:\n",
    "                    if k not in self.neighbors[i,j]:\n",
    "                        get.append(((i,j), k))\n",
    "        return get\n",
    "    \n",
    "    def fill(self):\n",
    "        '''\n",
    "        ajoute tous les murs possibles dans le labyrinthe\n",
    "        '''\n",
    "        self.neighbors = {(i, j): set() for i in range(self.height) for j in range(self.width)}\n",
    "    \n",
    "    def empty(self):\n",
    "        \"\"\"\n",
    "        Supprime tous les murs du labyrinthe\n",
    "        \"\"\"\n",
    "        for i in range(self.height):\n",
    "            for j in range(self.width):\n",
    "                if i > 0:\n",
    "                    self.neighbors[(i,j)].add((i-1,j))\n",
    "                if i < self.height-1:\n",
    "                    self.neighbors[(i,j)].add((i+1,j))\n",
    "                if j > 0:\n",
    "                    self.neighbors[(i,j)].add((i,j-1))\n",
    "                if j < self.width-1:\n",
    "                    self.neighbors[(i,j)].add((i,j+1))\n",
    "\n",
    "                    \n",
    "    def get_contiguous_cells(self, c):\n",
    "        '''\n",
    "        Retourne la liste des cellules contigües à c dans la grille (sans s’occuper des éventuels murs)\n",
    "        '''\n",
    "        contigus = []\n",
    "        if c[0] != 0: \n",
    "            contigus.append((c[0]-1,c[1]))\n",
    "        if c[1] !=0 : \n",
    "            contigus.append((c[0],c[1]-1)) \n",
    "        if c[1] != self.width-1: \n",
    "            contigus.append((c[0],c[1]+1)) \n",
    "        if c[0] != self.height-1: \n",
    "            contigus.append((c[0]+1,c[1])) \n",
    "        return contigus\n",
    "        \n",
    "    def get_reachable_cells(self,c):\n",
    "        '''\n",
    "        qui retourne la liste des cellules accessibles depuis c \n",
    "        (c’est-à-dire les cellules contiguës à c qui sont dans le voisinage de c)\n",
    "        '''\n",
    "        reachable = []\n",
    "        for i in self.neighbors[c]:\n",
    "            reachable.append(i)\n",
    "        return reachable\n",
    "    \n",
    "    def gen_btree(height, width):\n",
    "        \"\"\"\n",
    "        Crée un labyrinthe qui supprime aléatoirement le mur de droite ou du bas\n",
    "        \"\"\"\n",
    "        laby = Maze(height,width)\n",
    "        for i in range(height):\n",
    "            for j in range(width):\n",
    "                if i == height-1 and j != width-1:\n",
    "                    laby.neighbors[i,j].add((i,j+1))\n",
    "                elif i != height-1 and j == width-1:\n",
    "                    laby.neighbors[i,j].add((i+1,j))\n",
    "                elif i != height-1 and j != width-1 and (i+1,j) not in laby.neighbors[(i,j)] and (i,j+1) not in laby.neighbors[(i,j)]:\n",
    "                    voisin = [(i+1,j),(i,j+1)]\n",
    "                    laby.neighbors[(i,j)].add(choice(voisin))\n",
    "        return laby\n",
    "    \n",
    "    def gen_sidewinder(height,width):\n",
    "        \"\"\"\n",
    "        Crée un labyrinthe qui choisit aléatoirement entre supprimer le mur de droite et supprimer le mur du bas d'une des cellules de la ligne.\n",
    "        \"\"\"\n",
    "        laby = Maze(height,width)\n",
    "        for i in range(laby.height-1):\n",
    "            sequence = []\n",
    "            for j in range(laby.width-1):\n",
    "                sequence.append((i,j))\n",
    "                n = randint(0,1)\n",
    "                if n == 0:\n",
    "                    laby.neighbors[(i,j)].add((i,j+1))\n",
    "                else:\n",
    "                    cel = choice(sequence)\n",
    "                    laby.neighbors[(cel[0],cel[1])].add((cel[0]+1,cel[1]))\n",
    "                    sequence = []\n",
    "            sequence.append((i,width-1))\n",
    "            cel = choice(sequence)\n",
    "            laby.neighbors[(cel[0],cel[1])].add((cel[0]+1,cel[1]))\n",
    "\n",
    "        for i in range(width-1):\n",
    "            laby.neighbors[(height-1,i)].add((height-1,i+1))\n",
    "        return laby\n",
    "        \n",
    "    def gen_fusion(height,width):\n",
    "        '''\n",
    "        génère un labyrinthe, à h lignes et w colonnes, parfait, avec l’algorithme de fusion de chemin.\n",
    "        '''\n",
    "        laby = Maze(height, width, empty = False)\n",
    "        labelisation = {(i,j): (i,j) for i in range (laby.height) for j in range (laby.width)}\n",
    "        walls = laby.get_walls()\n",
    "        shuffle(walls)\n",
    "        \n",
    "        for (c1,c2) in walls:\n",
    "            if labelisation[c1] != labelisation[c2]:\n",
    "                laby.remove_wall(c1,c2)\n",
    "                label = labelisation[c2]\n",
    "                for i in labelisation:\n",
    "                    if labelisation[i] == label:\n",
    "                        labelisation[i] = labelisation[c1]\n",
    "        return laby\n",
    "    \n",
    "    def gen_exploration(height,width):\n",
    "        '''\n",
    "        génère un labyrinthe, à h lignes et w colonnes, parfait, avec l’algorithme d’exploration exhaustive.\n",
    "        '''\n",
    "        laby = Maze(height,width)\n",
    "        cel = (randint(0,laby.height-1),randint(0,laby.width-1))\n",
    "        pile = [cel]\n",
    "        marquage = [cel]\n",
    "        \n",
    "        while len(pile) != 0:\n",
    "            c = pile[0]\n",
    "            pile.pop(0)\n",
    "            temp = []\n",
    "            for i in laby.get_contiguous_cells(c):\n",
    "                if i not in marquage:\n",
    "                    temp.append(i)\n",
    "            if len(temp) != 0:\n",
    "                pile.insert(0,c)\n",
    "                c2 = choice(temp)\n",
    "                laby.remove_wall(c,c2)\n",
    "                marquage.append(c2)\n",
    "                pile.insert(0,c2)\n",
    "        return laby\n",
    "    #def Wilson \n",
    "    \n",
    "    def overlay(self, content=None):\n",
    "        '''\n",
    "        Rendu en mode texte, sur la sortie standard, \\\n",
    "        d'un labyrinthe avec du contenu dans les cellules\n",
    "        Argument:\n",
    "            content (dict) : dictionnaire tq content[cell] contient le caractère à afficher au milieu de la cellule\n",
    "        Retour:\n",
    "            string\n",
    "        '''\n",
    "        if content is None:\n",
    "            content = {(i,j):' ' for i in range(self.height) for j in range(self.width)}\n",
    "        else:\n",
    "            # Python >=3.9\n",
    "            #content = content | {(i, j): ' ' for i in range(\n",
    "            #    self.height) for j in range(self.width) if (i,j) not in content}\n",
    "            # Python <3.9\n",
    "            new_content = {(i, j): ' ' for i in range(self.height) for j in range(self.width) if (i,j) not in content}\n",
    "            content = {**content, **new_content}\n",
    "        txt = r\"\"\n",
    "        # Première ligne\n",
    "        txt += \"┏\"\n",
    "        for j in range(self.width-1):\n",
    "            txt += \"━━━┳\"\n",
    "        txt += \"━━━┓\\n\"\n",
    "        txt += \"┃\"\n",
    "        for j in range(self.width-1):\n",
    "            txt += \" \"+content[(0,j)]+\" ┃\" if (0,j+1) not in self.neighbors[(0,j)] else \" \"+content[(0,j)]+\"  \"\n",
    "        txt += \" \"+content[(0,self.width-1)]+\" ┃\\n\"\n",
    "        # Lignes normales\n",
    "        for i in range(self.height-1):\n",
    "            txt += \"┣\"\n",
    "            for j in range(self.width-1):\n",
    "                txt += \"━━━╋\" if (i+1,j) not in self.neighbors[(i,j)] else \"   ╋\"\n",
    "            txt += \"━━━┫\\n\" if (i+1,self.width-1) not in self.neighbors[(i,self.width-1)] else \"   ┫\\n\"\n",
    "            txt += \"┃\"\n",
    "            for j in range(self.width):\n",
    "                txt += \" \"+content[(i+1,j)]+\" ┃\" if (i+1,j+1) not in self.neighbors[(i+1,j)] else \" \"+content[(i+1,j)]+\"  \"\n",
    "            txt += \"\\n\"\n",
    "        # Bas du tableau\n",
    "        txt += \"┗\"\n",
    "        for i in range(self.width-1):\n",
    "            txt += \"━━━┻\"\n",
    "        txt += \"━━━┛\\n\"\n",
    "        return txt\n",
    "    \n",
    "    def find_path(graph, start, end):\n",
    "        # Initialisation\n",
    "        queue = [start]\n",
    "        visited = {start: None}\n",
    "\n",
    "        # Parcours du graphe\n",
    "        while queue:\n",
    "            node = queue.pop(0)\n",
    "            if node == end:\n",
    "                break\n",
    "            for neighbor in graph[node]:\n",
    "                if neighbor not in visited:\n",
    "                    visited[neighbor] = node\n",
    "                    queue.append(neighbor)\n",
    "\n",
    "        # Reconstruction du chemin\n",
    "        path = []\n",
    "        node = end\n",
    "        while node != start:\n",
    "            path.append(node)\n",
    "            node = visited[node]\n",
    "        path.append(start)\n",
    "        path.reverse()\n",
    "\n",
    "        return path\n",
    "    \n",
    "    def solve_dfs(self,start,stop):\n",
    "        '''\n",
    "        prend la cellule de départ et la cellule d’arrivée comme arguments.\n",
    "        '''\n",
    "        pile = [start]\n",
    "        marque = [start]\n",
    "        pred = {start: None}\n",
    "\n",
    "        while len(pile) != 0:\n",
    "            c = pile.pop()\n",
    "            if c == stop:\n",
    "                chemin = [c]\n",
    "                while pred[c] != None:\n",
    "                    chemin.insert(0, pred[c])\n",
    "                    c = pred[c]\n",
    "                \n",
    "            for i in self.get_reachable_cells(c):\n",
    "                if i not in marque:\n",
    "                    marque.append(i)\n",
    "                    pile.append(i)\n",
    "                    pred[i] = c\n",
    "        return chemin\n",
    "\n",
    "\n",
    "    def distance_geo(laby, c1, c2):\n",
    "        '''\n",
    "        calcule la distance « géodésique » entre la cellule c1 et la cellule c2 \n",
    "        (vous pourrez utiliser une des méthodes de résolution implémentées avant), \n",
    "        c’est à dire le nombre minimal de déplacements nécessaires sur le graphe pour aller de c1 à c2.\n",
    "        '''\n",
    "        distance = laby.solve_dfs(c1,c2)\n",
    "        return len(distance) - 1\n",
    "\n",
    "    def distance_man(laby,c1, c2):\n",
    "        '''\n",
    "        calcule la distance de Manhattan, sur la grille, entre la cellule c1 et la cellule c2,\n",
    "        c’est à dire le nombre minimal de déplacements nécessaires pour aller de c2 à c1 \n",
    "        si le labyrinthe était vide de tout mur.\n",
    "        '''\n",
    "        distance = abs(c1[0] - c2[0]) + abs(c1[1] - c2[1])\n",
    "        return distance"
   ]
  },
  {
   "cell_type": "code",
   "execution_count": 310,
   "id": "42105a74",
   "metadata": {},
   "outputs": [
    {
     "name": "stdout",
     "output_type": "stream",
     "text": [
      "4 x 4\n",
      "{(0, 0): {(1, 0), (0, 1)}, (0, 1): {(0, 2), (1, 1), (0, 0)}, (0, 2): {(0, 1), (1, 2), (0, 3)}, (0, 3): {(0, 2), (1, 3)}, (1, 0): {(1, 1), (2, 0), (0, 0)}, (1, 1): {(0, 1), (1, 0), (1, 2), (2, 1)}, (1, 2): {(1, 1), (0, 2), (1, 3), (2, 2)}, (1, 3): {(2, 3), (1, 2), (0, 3)}, (2, 0): {(1, 0), (2, 1), (3, 0)}, (2, 1): {(3, 1), (1, 1), (2, 0), (2, 2)}, (2, 2): {(2, 3), (3, 2), (1, 2), (2, 1)}, (2, 3): {(3, 3), (1, 3), (2, 2)}, (3, 0): {(3, 1), (2, 0)}, (3, 1): {(3, 2), (2, 1), (3, 0)}, (3, 2): {(3, 1), (3, 3), (2, 2)}, (3, 3): {(2, 3), (3, 2)}}\n"
     ]
    }
   ],
   "source": [
    "laby = Maze(4, 4, True)\n",
    "print(laby.info())"
   ]
  },
  {
   "cell_type": "code",
   "execution_count": 311,
   "id": "375c95ea",
   "metadata": {},
   "outputs": [
    {
     "name": "stdout",
     "output_type": "stream",
     "text": [
      "┏━━━┳━━━┳━━━┳━━━┓\n",
      "┃   ┃           ┃\n",
      "┣   ╋   ╋━━━╋   ┫\n",
      "┃   ┃       ┃   ┃\n",
      "┣   ╋━━━╋   ╋   ┫\n",
      "┃           ┃   ┃\n",
      "┣   ╋━━━╋━━━╋   ┫\n",
      "┃           ┃   ┃\n",
      "┗━━━┻━━━┻━━━┻━━━┛\n",
      "\n"
     ]
    }
   ],
   "source": [
    "laby.neighbors = {\n",
    "    (0, 0): {(1, 0)},\n",
    "    (0, 1): {(0, 2), (1, 1)},\n",
    "    (0, 2): {(0, 1), (0, 3)},\n",
    "    (0, 3): {(0, 2), (1, 3)},\n",
    "    (1, 0): {(2, 0), (0, 0)},\n",
    "    (1, 1): {(0, 1), (1, 2)},\n",
    "    (1, 2): {(1, 1), (2, 2)},\n",
    "    (1, 3): {(2, 3), (0, 3)},\n",
    "    (2, 0): {(1, 0), (2, 1), (3, 0)},\n",
    "    (2, 1): {(2, 0), (2, 2)},\n",
    "    (2, 2): {(1, 2), (2, 1)},\n",
    "    (2, 3): {(3, 3), (1, 3)},\n",
    "    (3, 0): {(3, 1), (2, 0)},\n",
    "    (3, 1): {(3, 2), (3, 0)},\n",
    "    (3, 2): {(3, 1)},\n",
    "    (3, 3): {(2, 3)}\n",
    "}\n",
    "\n",
    "print(laby)"
   ]
  },
  {
   "cell_type": "code",
   "execution_count": 312,
   "id": "56c181c0",
   "metadata": {},
   "outputs": [
    {
     "name": "stdout",
     "output_type": "stream",
     "text": [
      "┏━━━┳━━━┳━━━┳━━━┓\n",
      "┃               ┃\n",
      "┣   ╋   ╋   ╋   ┫\n",
      "┃               ┃\n",
      "┣   ╋   ╋   ╋   ┫\n",
      "┃               ┃\n",
      "┣   ╋   ╋   ╋   ┫\n",
      "┃               ┃\n",
      "┗━━━┻━━━┻━━━┻━━━┛\n",
      "\n",
      "┏━━━┳━━━┳━━━┳━━━┓\n",
      "┃   ┃   ┃   ┃   ┃\n",
      "┣━━━╋━━━╋━━━╋━━━┫\n",
      "┃   ┃   ┃   ┃   ┃\n",
      "┣━━━╋━━━╋━━━╋━━━┫\n",
      "┃   ┃   ┃   ┃   ┃\n",
      "┣━━━╋━━━╋━━━╋━━━┫\n",
      "┃   ┃   ┃   ┃   ┃\n",
      "┗━━━┻━━━┻━━━┻━━━┛\n",
      "\n"
     ]
    }
   ],
   "source": [
    "laby = Maze(4, 4, empty = True)\n",
    "print(laby)\n",
    "laby = Maze(4, 4, empty = False)\n",
    "print(laby)"
   ]
  },
  {
   "cell_type": "code",
   "execution_count": 313,
   "id": "a0c78680",
   "metadata": {},
   "outputs": [
    {
     "name": "stdout",
     "output_type": "stream",
     "text": [
      "┏━━━┳━━━┳━━━┳━━━┳━━━┓\n",
      "┃                   ┃\n",
      "┣   ╋   ╋   ╋   ╋   ┫\n",
      "┃                   ┃\n",
      "┣   ╋   ╋   ╋   ╋   ┫\n",
      "┃                   ┃\n",
      "┣   ╋   ╋   ╋   ╋   ┫\n",
      "┃                   ┃\n",
      "┣   ╋   ╋   ╋   ╋   ┫\n",
      "┃                   ┃\n",
      "┗━━━┻━━━┻━━━┻━━━┻━━━┛\n",
      "\n",
      "┏━━━┳━━━┳━━━┳━━━┳━━━┓\n",
      "┃   ┃               ┃\n",
      "┣   ╋   ╋   ╋   ╋   ┫\n",
      "┃                   ┃\n",
      "┣   ╋   ╋   ╋   ╋   ┫\n",
      "┃                   ┃\n",
      "┣   ╋   ╋   ╋   ╋   ┫\n",
      "┃                   ┃\n",
      "┣   ╋   ╋   ╋   ╋   ┫\n",
      "┃                   ┃\n",
      "┗━━━┻━━━┻━━━┻━━━┻━━━┛\n",
      "\n"
     ]
    }
   ],
   "source": [
    "laby = Maze(5, 5, empty = True)\n",
    "print(laby)\n",
    "\n",
    "laby.add_wall((0,0), (0,1))\n",
    "print(laby)"
   ]
  },
  {
   "cell_type": "code",
   "execution_count": 314,
   "id": "04cac56a",
   "metadata": {},
   "outputs": [
    {
     "name": "stdout",
     "output_type": "stream",
     "text": [
      "┏━━━┳━━━┳━━━┳━━━┳━━━┓\n",
      "┃   ┃               ┃\n",
      "┣   ╋   ╋   ╋   ╋   ┫\n",
      "┃                   ┃\n",
      "┣   ╋   ╋   ╋   ╋   ┫\n",
      "┃                   ┃\n",
      "┣   ╋   ╋   ╋   ╋   ┫\n",
      "┃                   ┃\n",
      "┣   ╋   ╋   ╋   ╋   ┫\n",
      "┃                   ┃\n",
      "┗━━━┻━━━┻━━━┻━━━┻━━━┛\n",
      "\n"
     ]
    }
   ],
   "source": [
    "print(laby)\n",
    "laby.remove_wall((1, 0), (0, 0))"
   ]
  },
  {
   "cell_type": "code",
   "execution_count": 315,
   "id": "5e1e3f5e",
   "metadata": {},
   "outputs": [
    {
     "name": "stdout",
     "output_type": "stream",
     "text": [
      "[((0, 0), (0, 1))]\n"
     ]
    }
   ],
   "source": [
    "print(laby.get_walls())"
   ]
  },
  {
   "cell_type": "code",
   "execution_count": 316,
   "id": "7ea9d40c",
   "metadata": {},
   "outputs": [
    {
     "name": "stdout",
     "output_type": "stream",
     "text": [
      "┏━━━┳━━━┳━━━┳━━━┳━━━┓\n",
      "┃   ┃               ┃\n",
      "┣   ╋━━━╋   ╋   ╋   ┫\n",
      "┃                   ┃\n",
      "┣   ╋   ╋   ╋   ╋   ┫\n",
      "┃                   ┃\n",
      "┣   ╋   ╋   ╋   ╋   ┫\n",
      "┃                   ┃\n",
      "┣   ╋   ╋   ╋   ╋   ┫\n",
      "┃                   ┃\n",
      "┗━━━┻━━━┻━━━┻━━━┻━━━┛\n",
      "\n"
     ]
    }
   ],
   "source": [
    "laby.empty()\n",
    "laby.add_wall((0, 0), (0, 1))\n",
    "laby.add_wall((0, 1), (1, 1))\n",
    "print(laby)"
   ]
  },
  {
   "cell_type": "code",
   "execution_count": 317,
   "id": "ec72207c",
   "metadata": {},
   "outputs": [
    {
     "name": "stdout",
     "output_type": "stream",
     "text": [
      "[(0, 0), (0, 2), (1, 1)]\n"
     ]
    }
   ],
   "source": [
    "print(laby.get_contiguous_cells((0,1)))"
   ]
  },
  {
   "cell_type": "code",
   "execution_count": 318,
   "id": "573811d1",
   "metadata": {},
   "outputs": [
    {
     "name": "stdout",
     "output_type": "stream",
     "text": [
      "[(0, 2)]\n"
     ]
    }
   ],
   "source": [
    "print(laby.get_reachable_cells((0,1)))"
   ]
  },
  {
   "cell_type": "code",
   "execution_count": 319,
   "id": "b5484b59",
   "metadata": {},
   "outputs": [
    {
     "name": "stdout",
     "output_type": "stream",
     "text": [
      "┏━━━┳━━━┳━━━┳━━━┳━━━┓\n",
      "┃   ┃   ┃   ┃   ┃   ┃\n",
      "┣━━━╋━━━╋━━━╋━━━╋━━━┫\n",
      "┃   ┃   ┃   ┃   ┃   ┃\n",
      "┣━━━╋━━━╋━━━╋━━━╋━━━┫\n",
      "┃   ┃   ┃   ┃   ┃   ┃\n",
      "┣━━━╋━━━╋━━━╋━━━╋━━━┫\n",
      "┃   ┃   ┃   ┃   ┃   ┃\n",
      "┣━━━╋━━━╋━━━╋━━━╋━━━┫\n",
      "┃   ┃   ┃   ┃   ┃   ┃\n",
      "┗━━━┻━━━┻━━━┻━━━┻━━━┛\n",
      "\n"
     ]
    }
   ],
   "source": [
    "laby = Maze(5, 5, empty = True)\n",
    "laby.fill()\n",
    "print(laby)"
   ]
  },
  {
   "cell_type": "code",
   "execution_count": 320,
   "id": "5415c7b6",
   "metadata": {},
   "outputs": [
    {
     "name": "stdout",
     "output_type": "stream",
     "text": [
      "┏━━━┳━━━┳━━━┳━━━┓\n",
      "┃       ┃   ┃   ┃\n",
      "┣━━━╋   ╋   ╋   ┫\n",
      "┃               ┃\n",
      "┣━━━╋━━━╋━━━╋   ┫\n",
      "┃           ┃   ┃\n",
      "┣━━━╋━━━╋   ╋   ┫\n",
      "┃               ┃\n",
      "┗━━━┻━━━┻━━━┻━━━┛\n",
      "\n"
     ]
    }
   ],
   "source": [
    "laby = Maze.gen_btree(4, 4)\n",
    "print(laby)"
   ]
  },
  {
   "cell_type": "code",
   "execution_count": 321,
   "id": "4afd4665",
   "metadata": {},
   "outputs": [
    {
     "name": "stdout",
     "output_type": "stream",
     "text": [
      "┏━━━┳━━━┳━━━┳━━━┓\n",
      "┃   ┃   ┃   ┃   ┃\n",
      "┣   ╋   ╋   ╋   ┫\n",
      "┃           ┃   ┃\n",
      "┣━━━╋━━━╋   ╋   ┫\n",
      "┃   ┃   ┃   ┃   ┃\n",
      "┣   ╋   ╋   ╋   ┫\n",
      "┃               ┃\n",
      "┗━━━┻━━━┻━━━┻━━━┛\n",
      "\n"
     ]
    }
   ],
   "source": [
    "laby = Maze.gen_sidewinder(4, 4)\n",
    "print(laby)\n"
   ]
  },
  {
   "cell_type": "code",
   "execution_count": 322,
   "id": "8fb28468",
   "metadata": {},
   "outputs": [
    {
     "name": "stdout",
     "output_type": "stream",
     "text": [
      "┏━━━┳━━━┳━━━┳━━━┳━━━┳━━━┳━━━┳━━━┳━━━┳━━━┳━━━┳━━━┳━━━┳━━━┳━━━┓\n",
      "┃           ┃       ┃       ┃   ┃   ┃       ┃   ┃   ┃       ┃\n",
      "┣━━━╋━━━╋   ╋━━━╋   ╋━━━╋   ╋   ╋   ╋   ╋━━━╋   ╋   ╋   ╋   ┫\n",
      "┃       ┃           ┃   ┃   ┃       ┃       ┃           ┃   ┃\n",
      "┣━━━╋   ╋━━━╋   ╋━━━╋   ╋   ╋   ╋━━━╋   ╋   ╋━━━╋   ╋   ╋━━━┫\n",
      "┃       ┃           ┃               ┃   ┃       ┃   ┃       ┃\n",
      "┣   ╋━━━╋━━━╋   ╋━━━╋━━━╋   ╋━━━╋━━━╋━━━╋   ╋━━━╋   ╋   ╋   ┫\n",
      "┃   ┃   ┃   ┃               ┃       ┃   ┃       ┃   ┃   ┃   ┃\n",
      "┣   ╋   ╋   ╋━━━╋   ╋   ╋   ╋━━━╋   ╋   ╋   ╋━━━╋━━━╋━━━╋   ┫\n",
      "┃   ┃       ┃       ┃   ┃   ┃       ┃       ┃               ┃\n",
      "┣   ╋   ╋━━━╋━━━╋   ╋━━━╋━━━╋   ╋━━━╋   ╋━━━╋   ╋   ╋━━━╋━━━┫\n",
      "┃   ┃           ┃           ┃           ┃       ┃   ┃   ┃   ┃\n",
      "┣   ╋━━━╋   ╋━━━╋   ╋━━━╋   ╋━━━╋   ╋   ╋━━━╋━━━╋   ╋   ╋   ┫\n",
      "┃   ┃       ┃       ┃               ┃   ┃           ┃       ┃\n",
      "┣   ╋━━━╋   ╋━━━╋   ╋━━━╋━━━╋   ╋   ╋━━━╋   ╋━━━╋━━━╋   ╋   ┫\n",
      "┃                   ┃           ┃   ┃           ┃       ┃   ┃\n",
      "┣   ╋━━━╋━━━╋━━━╋━━━╋━━━╋   ╋   ╋━━━╋   ╋━━━╋   ╋   ╋   ╋━━━┫\n",
      "┃   ┃           ┃   ┃       ┃               ┃       ┃       ┃\n",
      "┣━━━╋   ╋━━━╋━━━╋   ╋   ╋   ╋━━━╋   ╋   ╋━━━╋━━━╋   ╋━━━╋━━━┫\n",
      "┃           ┃   ┃       ┃       ┃   ┃   ┃       ┃   ┃   ┃   ┃\n",
      "┣━━━╋   ╋   ╋   ╋━━━╋   ╋   ╋━━━╋   ╋   ╋   ╋   ╋   ╋   ╋   ┫\n",
      "┃       ┃       ┃       ┃       ┃   ┃   ┃   ┃               ┃\n",
      "┣━━━╋   ╋━━━╋   ╋━━━╋━━━╋━━━╋   ╋━━━╋   ╋━━━╋━━━╋━━━╋   ╋━━━┫\n",
      "┃   ┃   ┃           ┃   ┃   ┃       ┃       ┃               ┃\n",
      "┣   ╋━━━╋━━━╋━━━╋   ╋   ╋   ╋   ╋━━━╋   ╋━━━╋━━━╋━━━╋━━━╋━━━┫\n",
      "┃   ┃   ┃       ┃   ┃               ┃   ┃               ┃   ┃\n",
      "┣   ╋   ╋   ╋━━━╋   ╋   ╋━━━╋   ╋━━━╋━━━╋   ╋━━━╋━━━╋━━━╋   ┫\n",
      "┃       ┃                   ┃   ┃       ┃               ┃   ┃\n",
      "┣━━━╋   ╋   ╋   ╋━━━╋━━━╋━━━╋   ╋━━━╋   ╋   ╋━━━╋━━━╋   ╋   ┫\n",
      "┃           ┃       ┃                           ┃           ┃\n",
      "┗━━━┻━━━┻━━━┻━━━┻━━━┻━━━┻━━━┻━━━┻━━━┻━━━┻━━━┻━━━┻━━━┻━━━┻━━━┛\n",
      "\n"
     ]
    }
   ],
   "source": [
    "laby = Maze.gen_fusion(15,15)\n",
    "print(laby)"
   ]
  },
  {
   "cell_type": "code",
   "execution_count": 323,
   "id": "d66f1fb8",
   "metadata": {},
   "outputs": [
    {
     "name": "stdout",
     "output_type": "stream",
     "text": [
      "┏━━━┳━━━┳━━━┳━━━┳━━━┳━━━┳━━━┳━━━┳━━━┳━━━┳━━━┳━━━┳━━━┳━━━┳━━━┓\n",
      "┃                   ┃       ┃           ┃       ┃           ┃\n",
      "┣   ╋   ╋━━━╋━━━╋   ╋   ╋   ╋   ╋   ╋   ╋   ╋   ╋   ╋━━━╋   ┫\n",
      "┃   ┃       ┃       ┃   ┃       ┃   ┃       ┃   ┃   ┃   ┃   ┃\n",
      "┣   ╋━━━╋   ╋   ╋━━━╋━━━╋━━━╋━━━╋   ╋━━━╋━━━╋━━━╋   ╋   ╋   ┫\n",
      "┃       ┃   ┃                       ┃           ┃       ┃   ┃\n",
      "┣━━━╋━━━╋   ╋━━━╋━━━╋━━━╋━━━╋━━━╋━━━╋   ╋━━━╋   ╋━━━╋   ╋   ┫\n",
      "┃       ┃           ┃               ┃   ┃   ┃           ┃   ┃\n",
      "┣   ╋   ╋━━━╋━━━╋   ╋   ╋━━━╋━━━╋   ╋   ╋   ╋━━━╋━━━╋━━━╋   ┫\n",
      "┃   ┃               ┃   ┃       ┃       ┃           ┃   ┃   ┃\n",
      "┣   ╋━━━╋━━━╋━━━╋━━━╋   ╋━━━╋   ╋━━━╋━━━╋   ╋━━━╋   ╋   ╋   ┫\n",
      "┃       ┃           ┃       ┃               ┃           ┃   ┃\n",
      "┣   ╋   ╋   ╋━━━╋   ╋━━━╋   ╋━━━╋━━━╋   ╋━━━╋   ╋━━━╋━━━╋   ┫\n",
      "┃   ┃       ┃   ┃   ┃               ┃   ┃       ┃           ┃\n",
      "┣   ╋━━━╋━━━╋   ╋   ╋   ╋━━━╋━━━╋   ╋   ╋━━━╋━━━╋   ╋━━━╋━━━┫\n",
      "┃               ┃       ┃       ┃       ┃       ┃           ┃\n",
      "┣━━━╋━━━╋━━━╋   ╋━━━╋━━━╋   ╋   ╋━━━╋   ╋   ╋   ╋━━━╋   ╋   ┫\n",
      "┃                   ┃       ┃       ┃   ┃   ┃       ┃   ┃   ┃\n",
      "┣━━━╋━━━╋━━━╋━━━╋━━━╋   ╋━━━╋━━━╋   ╋━━━╋   ╋━━━╋   ╋━━━╋   ┫\n",
      "┃                       ┃       ┃           ┃   ┃       ┃   ┃\n",
      "┣   ╋━━━╋━━━╋━━━╋━━━╋━━━╋   ╋━━━╋━━━╋━━━╋━━━╋   ╋━━━╋   ╋   ┫\n",
      "┃   ┃               ┃       ┃           ┃               ┃   ┃\n",
      "┣   ╋━━━╋   ╋━━━╋   ╋   ╋   ╋   ╋   ╋━━━╋   ╋━━━╋━━━╋━━━╋   ┫\n",
      "┃       ┃       ┃   ┃   ┃   ┃   ┃       ┃               ┃   ┃\n",
      "┣━━━╋━━━╋━━━╋━━━╋   ╋   ╋   ╋   ╋━━━╋   ╋━━━╋━━━╋━━━╋   ╋   ┫\n",
      "┃                   ┃   ┃   ┃       ┃               ┃       ┃\n",
      "┣━━━╋   ╋━━━╋━━━╋━━━╋   ╋   ╋━━━╋   ╋━━━╋   ╋━━━╋━━━╋━━━╋   ┫\n",
      "┃       ┃               ┃       ┃   ┃       ┃           ┃   ┃\n",
      "┣   ╋━━━╋   ╋━━━╋━━━╋━━━╋━━━╋   ╋   ╋   ╋━━━╋   ╋   ╋━━━╋   ┫\n",
      "┃                           ┃       ┃           ┃           ┃\n",
      "┗━━━┻━━━┻━━━┻━━━┻━━━┻━━━┻━━━┻━━━┻━━━┻━━━┻━━━┻━━━┻━━━┻━━━┻━━━┛\n",
      "\n"
     ]
    }
   ],
   "source": [
    "laby = Maze.gen_exploration(15,15)\n",
    "print(laby)"
   ]
  },
  {
   "cell_type": "code",
   "execution_count": 324,
   "id": "152a8b34",
   "metadata": {},
   "outputs": [
    {
     "ename": "AttributeError",
     "evalue": "type object 'Maze' has no attribute 'gen_wilson'",
     "output_type": "error",
     "traceback": [
      "\u001b[0;31m---------------------------------------------------------------------------\u001b[0m",
      "\u001b[0;31mAttributeError\u001b[0m                            Traceback (most recent call last)",
      "Input \u001b[0;32mIn [324]\u001b[0m, in \u001b[0;36m<module>\u001b[0;34m\u001b[0m\n\u001b[0;32m----> 1\u001b[0m laby \u001b[38;5;241m=\u001b[39m \u001b[43mMaze\u001b[49m\u001b[38;5;241;43m.\u001b[39;49m\u001b[43mgen_wilson\u001b[49m(\u001b[38;5;241m12\u001b[39m, \u001b[38;5;241m12\u001b[39m)\n\u001b[1;32m      2\u001b[0m \u001b[38;5;28mprint\u001b[39m(laby)\n",
      "\u001b[0;31mAttributeError\u001b[0m: type object 'Maze' has no attribute 'gen_wilson'"
     ]
    }
   ],
   "source": [
    "laby = Maze.gen_wilson(12, 12)\n",
    "print(laby)"
   ]
  },
  {
   "cell_type": "code",
   "execution_count": 325,
   "id": "3fd8e256",
   "metadata": {},
   "outputs": [
    {
     "name": "stdout",
     "output_type": "stream",
     "text": [
      "┏━━━┳━━━┳━━━┳━━━┓\n",
      "┃ c   o         ┃\n",
      "┣   ╋   ╋   ╋   ┫\n",
      "┃     u         ┃\n",
      "┣   ╋   ╋   ╋   ┫\n",
      "┃     c   o     ┃\n",
      "┣   ╋   ╋   ╋   ┫\n",
      "┃         u   ! ┃\n",
      "┗━━━┻━━━┻━━━┻━━━┛\n",
      "\n"
     ]
    }
   ],
   "source": [
    "laby = Maze(4,4, empty = True)\n",
    "print(laby.overlay({\n",
    "    (0, 0):'c',\n",
    "    (0, 1):'o',\n",
    "    (1, 1):'u',\n",
    "    (2, 1):'c',\n",
    "    (2, 2):'o',\n",
    "    (3, 2):'u',\n",
    "    (3, 3):'!'}))"
   ]
  },
  {
   "cell_type": "code",
   "execution_count": 326,
   "id": "7891cbc1",
   "metadata": {},
   "outputs": [
    {
     "name": "stdout",
     "output_type": "stream",
     "text": [
      "┏━━━┳━━━┳━━━┳━━━┓\n",
      "┃ @             ┃\n",
      "┣   ╋   ╋   ╋   ┫\n",
      "┃ *   *         ┃\n",
      "┣   ╋   ╋   ╋   ┫\n",
      "┃     *   *     ┃\n",
      "┣   ╋   ╋   ╋   ┫\n",
      "┃         *   § ┃\n",
      "┗━━━┻━━━┻━━━┻━━━┛\n",
      "\n"
     ]
    }
   ],
   "source": [
    "laby = Maze(4,4, empty = True)\n",
    "path = {(0, 0): '@',\n",
    "        (1, 0): '*',\n",
    "        (1, 1): '*',\n",
    "        (2, 1): '*',\n",
    "        (2, 2): '*',\n",
    "        (3, 2): '*',\n",
    "        (3, 3): '§'}\n",
    "print(laby.overlay(path))"
   ]
  },
  {
   "cell_type": "code",
   "execution_count": 327,
   "id": "6e744c79",
   "metadata": {},
   "outputs": [
    {
     "name": "stdout",
     "output_type": "stream",
     "text": [
      "┏━━━┳━━━┳━━━┳━━━┳━━━┳━━━┳━━━┳━━━┳━━━┳━━━┳━━━┳━━━┳━━━┳━━━┳━━━┓\n",
      "┃ D   *   *   *   *   *     ┃   ┃                           ┃\n",
      "┣   ╋   ╋   ╋   ╋   ╋   ╋━━━╋   ╋   ╋━━━╋━━━╋━━━╋━━━╋━━━╋━━━┫\n",
      "┃   ┃   ┃   ┃   ┃   ┃ *         ┃               ┃   ┃       ┃\n",
      "┣   ╋   ╋━━━╋━━━╋━━━╋   ╋   ╋━━━╋━━━╋   ╋━━━╋   ╋   ╋   ╋━━━┫\n",
      "┃   ┃       ┃   ┃   ┃ * ┃           ┃       ┃   ┃           ┃\n",
      "┣━━━╋━━━╋   ╋   ╋   ╋   ╋━━━╋   ╋   ╋━━━╋   ╋━━━╋   ╋━━━╋   ┫\n",
      "┃   ┃   ┃   ┃   ┃     *   * ┃   ┃   ┃   ┃   ┃       ┃   ┃   ┃\n",
      "┣   ╋   ╋   ╋   ╋━━━╋   ╋   ╋━━━╋   ╋   ╋   ╋   ╋━━━╋   ╋   ┫\n",
      "┃       ┃   ┃       ┃   ┃ *   * ┃   ┃ *   * ┃           ┃   ┃\n",
      "┣   ╋   ╋━━━╋   ╋━━━╋━━━╋   ╋   ╋━━━╋   ╋   ╋━━━╋━━━╋   ╋━━━┫\n",
      "┃   ┃           ┃           ┃ *   *   * ┃ * ┃               ┃\n",
      "┣━━━╋━━━╋━━━╋   ╋   ╋━━━╋━━━╋   ╋━━━╋   ╋   ╋━━━╋   ╋━━━╋   ┫\n",
      "┃                       ┃           ┃   ┃ *   * ┃       ┃   ┃\n",
      "┣━━━╋   ╋━━━╋   ╋━━━╋━━━╋   ╋━━━╋━━━╋   ╋   ╋   ╋━━━╋   ╋━━━┫\n",
      "┃       ┃           ┃               ┃   ┃   ┃ * ┃           ┃\n",
      "┣   ╋━━━╋━━━╋━━━╋━━━╋━━━╋   ╋━━━╋━━━╋━━━╋   ╋   ╋━━━╋   ╋━━━┫\n",
      "┃       ┃       ┃       ┃   ┃   ┃       ┃   ┃ * ┃           ┃\n",
      "┣   ╋   ╋   ╋━━━╋   ╋   ╋━━━╋   ╋   ╋   ╋━━━╋   ╋   ╋━━━╋   ┫\n",
      "┃   ┃   ┃           ┃   ┃           ┃     *   * ┃       ┃   ┃\n",
      "┣   ╋   ╋   ╋   ╋   ╋━━━╋   ╋━━━╋━━━╋━━━╋   ╋━━━╋   ╋━━━╋━━━┫\n",
      "┃   ┃       ┃   ┃   ┃   ┃   ┃       ┃     * ┃   ┃       ┃   ┃\n",
      "┣   ╋━━━╋   ╋━━━╋   ╋   ╋━━━╋   ╋   ╋━━━╋   ╋   ╋   ╋━━━╋   ┫\n",
      "┃   ┃       ┃       ┃       ┃   ┃         * ┃       ┃   ┃   ┃\n",
      "┣━━━╋━━━╋━━━╋━━━╋   ╋━━━╋   ╋   ╋   ╋   ╋   ╋   ╋━━━╋   ╋   ┫\n",
      "┃           ┃   ┃       ┃       ┃   ┃   ┃ * ┃               ┃\n",
      "┣   ╋   ╋   ╋   ╋   ╋   ╋━━━╋━━━╋━━━╋━━━╋   ╋   ╋━━━╋━━━╋━━━┫\n",
      "┃   ┃   ┃           ┃               ┃     *   *   *   *   * ┃\n",
      "┣   ╋━━━╋━━━╋   ╋   ╋━━━╋━━━╋   ╋   ╋   ╋   ╋━━━╋━━━╋   ╋   ┫\n",
      "┃       ┃       ┃   ┃           ┃   ┃   ┃       ┃       ┃ A ┃\n",
      "┗━━━┻━━━┻━━━┻━━━┻━━━┻━━━┻━━━┻━━━┻━━━┻━━━┻━━━┻━━━┻━━━┻━━━┻━━━┛\n",
      "\n"
     ]
    }
   ],
   "source": [
    "laby = Maze.gen_fusion(15, 15)\n",
    "solution = laby.solve_dfs((0, 0), (14, 14))\n",
    "str_solution = {c:'*' for c in solution}\n",
    "str_solution[( 0,  0)] = 'D'\n",
    "str_solution[(14, 14)] = 'A'\n",
    "print(laby.overlay(str_solution))"
   ]
  },
  {
   "cell_type": "code",
   "execution_count": 328,
   "id": "85db45d3",
   "metadata": {},
   "outputs": [
    {
     "name": "stdout",
     "output_type": "stream",
     "text": [
      "32\n"
     ]
    }
   ],
   "source": [
    "print(laby.distance_geo((0,0), (14,14)))"
   ]
  },
  {
   "cell_type": "code",
   "execution_count": 329,
   "id": "dec79918",
   "metadata": {},
   "outputs": [
    {
     "name": "stdout",
     "output_type": "stream",
     "text": [
      "28\n"
     ]
    }
   ],
   "source": [
    "print(laby.distance_man((0,0),(14,14)))"
   ]
  },
  {
   "cell_type": "code",
   "execution_count": null,
   "id": "b8187788",
   "metadata": {},
   "outputs": [],
   "source": []
  }
 ],
 "metadata": {
  "kernelspec": {
   "display_name": "Python 3 (ipykernel)",
   "language": "python",
   "name": "python3"
  },
  "language_info": {
   "codemirror_mode": {
    "name": "ipython",
    "version": 3
   },
   "file_extension": ".py",
   "mimetype": "text/x-python",
   "name": "python",
   "nbconvert_exporter": "python",
   "pygments_lexer": "ipython3",
   "version": "3.8.10"
  }
 },
 "nbformat": 4,
 "nbformat_minor": 5
}
